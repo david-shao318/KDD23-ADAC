{
 "cells": [
  {
   "cell_type": "code",
   "execution_count": 1,
   "metadata": {
    "ExecuteTime": {
     "end_time": "2023-06-18T08:43:23.234507Z",
     "start_time": "2023-06-18T08:43:23.225002Z"
    },
    "pycharm": {
     "name": "#%%\n"
    }
   },
   "outputs": [],
   "source": [
    "import gymGharrafa\n",
    "import os,sys,time\n",
    "# from convNet import NetA2C\n",
    "import torch\n",
    "import numpy as np\n",
    "import time\n",
    "\n",
    "import gym\n",
    "# import gymInt2DirImg\n",
    "\n",
    "import matplotlib.pyplot as plt\n",
    "import cv2\n",
    "from PIL import Image\n",
    "\n",
    "import torch\n",
    "import torch.nn as nn\n",
    "import torch.nn.utils as nn_utils\n",
    "import torch.nn.functional as F\n",
    "import torch.optim as optim"
   ]
  },
  {
   "cell_type": "code",
   "execution_count": 2,
   "metadata": {
    "pycharm": {
     "name": "#%%\n"
    }
   },
   "outputs": [],
   "source": [
    "class NetPG(nn.Module):\n",
    "    def __init__(self, input_size, n_actions):\n",
    "        super(NetPG, self).__init__()\n",
    "\n",
    "        self.net = nn.Sequential(\n",
    "            nn.Linear(input_size, 512),\n",
    "            nn.ReLU(),\n",
    "            nn.Linear(512, n_actions)\n",
    "        )\n",
    "\n",
    "    def forward(self, x):\n",
    "        return self.net(x)"
   ]
  },
  {
   "cell_type": "code",
   "execution_count": 10,
   "metadata": {
    "pycharm": {
     "name": "#%%\n"
    }
   },
   "outputs": [
    {
     "name": "stderr",
     "output_type": "stream",
     "text": [
      "/Users/d.shao/miniconda3/envs/gharaffa/lib/python3.8/site-packages/torch/serialization.py:868: SourceChangeWarning: source code of class 'torch.nn.modules.container.Sequential' has changed. you can retrieve the original source code by accessing the object's source attribute or set `torch.nn.Module.dump_patches = True` and use the patch tool to revert the changes.\n",
      "  warnings.warn(msg, SourceChangeWarning)\n",
      "/Users/d.shao/miniconda3/envs/gharaffa/lib/python3.8/site-packages/torch/serialization.py:868: SourceChangeWarning: source code of class 'torch.nn.modules.linear.Linear' has changed. you can retrieve the original source code by accessing the object's source attribute or set `torch.nn.Module.dump_patches = True` and use the patch tool to revert the changes.\n",
      "  warnings.warn(msg, SourceChangeWarning)\n",
      "/Users/d.shao/miniconda3/envs/gharaffa/lib/python3.8/site-packages/torch/serialization.py:868: SourceChangeWarning: source code of class 'torch.nn.modules.activation.ReLU' has changed. you can retrieve the original source code by accessing the object's source attribute or set `torch.nn.Module.dump_patches = True` and use the patch tool to revert the changes.\n",
      "  warnings.warn(msg, SourceChangeWarning)\n"
     ]
    }
   ],
   "source": [
    "model = torch.load(\"../../../models/behavioral_gharaffaEnv_0_Q\", \"cpu\")"
   ]
  },
  {
   "cell_type": "code",
   "execution_count": 11,
   "metadata": {
    "pycharm": {
     "name": "#%%\n"
    }
   },
   "outputs": [],
   "source": [
    "_ = model.eval()"
   ]
  },
  {
   "cell_type": "code",
   "execution_count": 13,
   "metadata": {
    "scrolled": false,
    "pycharm": {
     "name": "#%%\n"
    }
   },
   "outputs": [
    {
     "name": "stderr",
     "output_type": "stream",
     "text": [
      "/Users/d.shao/miniconda3/envs/gharaffa/lib/python3.8/site-packages/gym/envs/registration.py:555: UserWarning: \u001B[33mWARN: The environment gymGharrafa-v4 is out of date. You should consider upgrading to version `v5`.\u001B[0m\n",
      "  logger.warn(\n"
     ]
    },
    {
     "name": "stdout",
     "output_type": "stream",
     "text": [
      " Retrying in 1 seconds\n"
     ]
    },
    {
     "name": "stderr",
     "output_type": "stream",
     "text": [
      "/Users/d.shao/miniconda3/envs/gharaffa/lib/python3.8/site-packages/gym/utils/passive_env_checker.py:31: UserWarning: \u001B[33mWARN: A Box observation space has an unconventional shape (neither an image, nor a 1D vector). We recommend flattening the observation to have only a 1D vector or use a custom policy to properly process the data. Actual observation shape: (1, 68)\u001B[0m\n",
      "  logger.warn(\n",
      "/Users/d.shao/miniconda3/envs/gharaffa/lib/python3.8/site-packages/gym/utils/passive_env_checker.py:174: UserWarning: \u001B[33mWARN: Future gym versions will require that `Env.reset` can be passed a `seed` instead of using `Env.seed` for resetting the environment random number generator.\u001B[0m\n",
      "  logger.warn(\n",
      "/Users/d.shao/miniconda3/envs/gharaffa/lib/python3.8/site-packages/gym/utils/passive_env_checker.py:187: UserWarning: \u001B[33mWARN: Future gym versions will require that `Env.reset` can be passed `options` to allow the environment initialisation to be passed additional information.\u001B[0m\n",
      "  logger.warn(\n",
      "/Users/d.shao/miniconda3/envs/gharaffa/lib/python3.8/site-packages/gym/utils/passive_env_checker.py:195: UserWarning: \u001B[33mWARN: The result returned by `env.reset()` was not a tuple of the form `(obs, info)`, where `obs` is a observation and `info` is a dictionary containing additional information. Actual type: `<class 'numpy.ndarray'>`\u001B[0m\n",
      "  logger.warn(\n",
      "/Users/d.shao/miniconda3/envs/gharaffa/lib/python3.8/site-packages/gym/utils/passive_env_checker.py:219: DeprecationWarning: \u001B[33mWARN: Core environment is written in old step API which returns one bool instead of two. It is recommended to rewrite the environment with new step API. \u001B[0m\n",
      "  logger.deprecation(\n",
      "/Users/d.shao/miniconda3/envs/gharaffa/lib/python3.8/site-packages/gym/utils/passive_env_checker.py:225: DeprecationWarning: `np.bool8` is a deprecated alias for `np.bool_`.  (Deprecated NumPy 1.24)\n",
      "  if not isinstance(done, (bool, np.bool8)):\n",
      "/Users/d.shao/miniconda3/envs/gharaffa/lib/python3.8/site-packages/gym/utils/passive_env_checker.py:141: UserWarning: \u001B[33mWARN: The obs returned by the `step()` method was expecting numpy array dtype to be uint8, actual type: float32\u001B[0m\n",
      "  logger.warn(\n",
      "/Users/d.shao/miniconda3/envs/gharaffa/lib/python3.8/site-packages/gym/utils/passive_env_checker.py:165: UserWarning: \u001B[33mWARN: The obs returned by the `step()` method is not within the observation space.\u001B[0m\n",
      "  logger.warn(f\"{pre} is not within the observation space.\")\n"
     ]
    }
   ],
   "source": [
    "env = gym.make(\"gymGharrafa-v4\")\n",
    "_ = env.reset()\n",
    "obs = env.reset()\n",
    "obsTensor = torch.FloatTensor(np.expand_dims(obs, axis=0))\n",
    "steps=360\n",
    "for s in range(steps):\n",
    "    action = model(obsTensor)[0].detach().numpy().argmax()\n",
    "    obs,reward,episode_over,additional = env.step(action)\n",
    "    obsTensor = torch.FloatTensor(np.expand_dims(obs, axis=0))"
   ]
  },
  {
   "cell_type": "code",
   "execution_count": null,
   "metadata": {
    "pycharm": {
     "name": "#%%\n"
    }
   },
   "outputs": [],
   "source": []
  },
  {
   "cell_type": "code",
   "execution_count": 5,
   "metadata": {
    "pycharm": {
     "name": "#%%\n"
    }
   },
   "outputs": [
    {
     "name": "stderr",
     "output_type": "stream",
     "text": [
      "/Users/d.shao/miniconda3/envs/gharaffa/lib/python3.8/site-packages/gym/envs/registration.py:555: UserWarning: \u001B[33mWARN: The environment gymGharrafa-v4 is out of date. You should consider upgrading to version `v5`.\u001B[0m\n",
      "  logger.warn(\n"
     ]
    },
    {
     "name": "stdout",
     "output_type": "stream",
     "text": [
      " Retrying in 1 seconds\n"
     ]
    },
    {
     "name": "stderr",
     "output_type": "stream",
     "text": [
      "/Users/d.shao/miniconda3/envs/gharaffa/lib/python3.8/site-packages/gym/utils/passive_env_checker.py:31: UserWarning: \u001B[33mWARN: A Box observation space has an unconventional shape (neither an image, nor a 1D vector). We recommend flattening the observation to have only a 1D vector or use a custom policy to properly process the data. Actual observation shape: (1, 68)\u001B[0m\n",
      "  logger.warn(\n",
      "/Users/d.shao/miniconda3/envs/gharaffa/lib/python3.8/site-packages/gym/utils/passive_env_checker.py:174: UserWarning: \u001B[33mWARN: Future gym versions will require that `Env.reset` can be passed a `seed` instead of using `Env.seed` for resetting the environment random number generator.\u001B[0m\n",
      "  logger.warn(\n",
      "/Users/d.shao/miniconda3/envs/gharaffa/lib/python3.8/site-packages/gym/utils/passive_env_checker.py:187: UserWarning: \u001B[33mWARN: Future gym versions will require that `Env.reset` can be passed `options` to allow the environment initialisation to be passed additional information.\u001B[0m\n",
      "  logger.warn(\n",
      "/Users/d.shao/miniconda3/envs/gharaffa/lib/python3.8/site-packages/gym/utils/passive_env_checker.py:195: UserWarning: \u001B[33mWARN: The result returned by `env.reset()` was not a tuple of the form `(obs, info)`, where `obs` is a observation and `info` is a dictionary containing additional information. Actual type: `<class 'numpy.ndarray'>`\u001B[0m\n",
      "  logger.warn(\n",
      "/Users/d.shao/miniconda3/envs/gharaffa/lib/python3.8/site-packages/gym/utils/passive_env_checker.py:219: DeprecationWarning: \u001B[33mWARN: Core environment is written in old step API which returns one bool instead of two. It is recommended to rewrite the environment with new step API. \u001B[0m\n",
      "  logger.deprecation(\n",
      "/Users/d.shao/miniconda3/envs/gharaffa/lib/python3.8/site-packages/gym/utils/passive_env_checker.py:225: DeprecationWarning: `np.bool8` is a deprecated alias for `np.bool_`.  (Deprecated NumPy 1.24)\n",
      "  if not isinstance(done, (bool, np.bool8)):\n",
      "/Users/d.shao/miniconda3/envs/gharaffa/lib/python3.8/site-packages/gym/utils/passive_env_checker.py:141: UserWarning: \u001B[33mWARN: The obs returned by the `step()` method was expecting numpy array dtype to be uint8, actual type: float32\u001B[0m\n",
      "  logger.warn(\n",
      "/Users/d.shao/miniconda3/envs/gharaffa/lib/python3.8/site-packages/gym/utils/passive_env_checker.py:165: UserWarning: \u001B[33mWARN: The obs returned by the `step()` method is not within the observation space.\u001B[0m\n",
      "  logger.warn(f\"{pre} is not within the observation space.\")\n"
     ]
    },
    {
     "ename": "FatalTraCIError",
     "evalue": "connection closed by SUMO",
     "output_type": "error",
     "traceback": [
      "\u001B[0;31m---------------------------------------------------------------------------\u001B[0m",
      "\u001B[0;31mFatalTraCIError\u001B[0m                           Traceback (most recent call last)",
      "Cell \u001B[0;32mIn[5], line 5\u001B[0m\n\u001B[1;32m      3\u001B[0m steps\u001B[38;5;241m=\u001B[39m\u001B[38;5;241m360\u001B[39m\n\u001B[1;32m      4\u001B[0m \u001B[38;5;28;01mfor\u001B[39;00m s \u001B[38;5;129;01min\u001B[39;00m \u001B[38;5;28mrange\u001B[39m (steps):\n\u001B[0;32m----> 5\u001B[0m     \u001B[43menvSCAT\u001B[49m\u001B[38;5;241;43m.\u001B[39;49m\u001B[43mstep\u001B[49m\u001B[43m(\u001B[49m\u001B[38;5;241;43m0\u001B[39;49m\u001B[43m)\u001B[49m\n",
      "File \u001B[0;32m~/miniconda3/envs/gharaffa/lib/python3.8/site-packages/gym/wrappers/time_limit.py:49\u001B[0m, in \u001B[0;36mTimeLimit.step\u001B[0;34m(self, action)\u001B[0m\n\u001B[1;32m     39\u001B[0m \u001B[38;5;28;01mdef\u001B[39;00m \u001B[38;5;21mstep\u001B[39m(\u001B[38;5;28mself\u001B[39m, action):\n\u001B[1;32m     40\u001B[0m \u001B[38;5;250m    \u001B[39m\u001B[38;5;124;03m\"\"\"Steps through the environment and if the number of steps elapsed exceeds ``max_episode_steps`` then truncate.\u001B[39;00m\n\u001B[1;32m     41\u001B[0m \n\u001B[1;32m     42\u001B[0m \u001B[38;5;124;03m    Args:\u001B[39;00m\n\u001B[0;32m   (...)\u001B[0m\n\u001B[1;32m     47\u001B[0m \n\u001B[1;32m     48\u001B[0m \u001B[38;5;124;03m    \"\"\"\u001B[39;00m\n\u001B[0;32m---> 49\u001B[0m     observation, reward, terminated, info \u001B[38;5;241m=\u001B[39m \u001B[38;5;28;43mself\u001B[39;49m\u001B[38;5;241;43m.\u001B[39;49m\u001B[43menv\u001B[49m\u001B[38;5;241;43m.\u001B[39;49m\u001B[43mstep\u001B[49m\u001B[43m(\u001B[49m\u001B[43maction\u001B[49m\u001B[43m)\u001B[49m\n\u001B[1;32m     50\u001B[0m     \u001B[38;5;28mself\u001B[39m\u001B[38;5;241m.\u001B[39m_elapsed_steps \u001B[38;5;241m+\u001B[39m\u001B[38;5;241m=\u001B[39m \u001B[38;5;241m1\u001B[39m\n\u001B[1;32m     52\u001B[0m     \u001B[38;5;28;01mreturn\u001B[39;00m observation, reward, terminated, info\n",
      "File \u001B[0;32m~/miniconda3/envs/gharaffa/lib/python3.8/site-packages/gym/wrappers/order_enforcing.py:37\u001B[0m, in \u001B[0;36mOrderEnforcing.step\u001B[0;34m(self, action)\u001B[0m\n\u001B[1;32m     35\u001B[0m \u001B[38;5;28;01mif\u001B[39;00m \u001B[38;5;129;01mnot\u001B[39;00m \u001B[38;5;28mself\u001B[39m\u001B[38;5;241m.\u001B[39m_has_reset:\n\u001B[1;32m     36\u001B[0m     \u001B[38;5;28;01mraise\u001B[39;00m ResetNeeded(\u001B[38;5;124m\"\u001B[39m\u001B[38;5;124mCannot call env.step() before calling env.reset()\u001B[39m\u001B[38;5;124m\"\u001B[39m)\n\u001B[0;32m---> 37\u001B[0m \u001B[38;5;28;01mreturn\u001B[39;00m \u001B[38;5;28;43mself\u001B[39;49m\u001B[38;5;241;43m.\u001B[39;49m\u001B[43menv\u001B[49m\u001B[38;5;241;43m.\u001B[39;49m\u001B[43mstep\u001B[49m\u001B[43m(\u001B[49m\u001B[43maction\u001B[49m\u001B[43m)\u001B[49m\n",
      "File \u001B[0;32m~/miniconda3/envs/gharaffa/lib/python3.8/site-packages/gym/wrappers/env_checker.py:39\u001B[0m, in \u001B[0;36mPassiveEnvChecker.step\u001B[0;34m(self, action)\u001B[0m\n\u001B[1;32m     37\u001B[0m     \u001B[38;5;28;01mreturn\u001B[39;00m env_step_passive_checker(\u001B[38;5;28mself\u001B[39m\u001B[38;5;241m.\u001B[39menv, action)\n\u001B[1;32m     38\u001B[0m \u001B[38;5;28;01melse\u001B[39;00m:\n\u001B[0;32m---> 39\u001B[0m     \u001B[38;5;28;01mreturn\u001B[39;00m \u001B[38;5;28;43mself\u001B[39;49m\u001B[38;5;241;43m.\u001B[39;49m\u001B[43menv\u001B[49m\u001B[38;5;241;43m.\u001B[39;49m\u001B[43mstep\u001B[49m\u001B[43m(\u001B[49m\u001B[43maction\u001B[49m\u001B[43m)\u001B[49m\n",
      "File \u001B[0;32m~/Downloads/QCRI/ADAC/KDD23-ADAC/ADAC_OpenSourced/ADAC_traffic_master/TrafQ/Environments/gym-gharrafa/gymGharrafa/GharrafaBasicEnv.py:231\u001B[0m, in \u001B[0;36mGharrafaBasicEnv.step\u001B[0;34m(self, action)\u001B[0m\n\u001B[1;32m    229\u001B[0m \u001B[38;5;28;01mdef\u001B[39;00m \u001B[38;5;21mstep\u001B[39m(\u001B[38;5;28mself\u001B[39m, action):\n\u001B[1;32m    230\u001B[0m     \u001B[38;5;28;01mif\u001B[39;00m \u001B[38;5;28mself\u001B[39m\u001B[38;5;241m.\u001B[39mPlay \u001B[38;5;241m!=\u001B[39m \u001B[38;5;28;01mNone\u001B[39;00m \u001B[38;5;129;01mand\u001B[39;00m \u001B[38;5;28mself\u001B[39m\u001B[38;5;241m.\u001B[39mPlay \u001B[38;5;241m!=\u001B[39m \u001B[38;5;124m\"\u001B[39m\u001B[38;5;124maction\u001B[39m\u001B[38;5;124m\"\u001B[39m:\n\u001B[0;32m--> 231\u001B[0m         obs,reward,measures \u001B[38;5;241m=\u001B[39m \u001B[38;5;28;43mself\u001B[39;49m\u001B[38;5;241;43m.\u001B[39;49m\u001B[43m_observeState\u001B[49m\u001B[43m(\u001B[49m\u001B[43m)\u001B[49m\n\u001B[1;32m    232\u001B[0m         measures[\u001B[38;5;124m\"\u001B[39m\u001B[38;5;124mtime\u001B[39m\u001B[38;5;124m\"\u001B[39m] \u001B[38;5;241m=\u001B[39m \u001B[38;5;28mself\u001B[39m\u001B[38;5;241m.\u001B[39mtimestep\n\u001B[1;32m    234\u001B[0m         \u001B[38;5;66;03m#episodic conditions\u001B[39;00m\n",
      "File \u001B[0;32m~/Downloads/QCRI/ADAC/KDD23-ADAC/ADAC_OpenSourced/ADAC_traffic_master/TrafQ/Environments/gym-gharrafa/gymGharrafa/GharrafaBasicEnv.py:182\u001B[0m, in \u001B[0;36mGharrafaBasicEnv._observeState\u001B[0;34m(self)\u001B[0m\n\u001B[1;32m    178\u001B[0m measures \u001B[38;5;241m=\u001B[39m {}\n\u001B[1;32m    181\u001B[0m \u001B[38;5;28;01mfor\u001B[39;00m i \u001B[38;5;129;01min\u001B[39;00m \u001B[38;5;28mrange\u001B[39m(\u001B[38;5;28mint\u001B[39m(\u001B[38;5;28mself\u001B[39m\u001B[38;5;241m.\u001B[39mOBSERVEDPERIOD\u001B[38;5;241m/\u001B[39m\u001B[38;5;28mself\u001B[39m\u001B[38;5;241m.\u001B[39mSUMOSTEP)):\n\u001B[0;32m--> 182\u001B[0m     \u001B[38;5;28;43mself\u001B[39;49m\u001B[38;5;241;43m.\u001B[39;49m\u001B[43mconn\u001B[49m\u001B[38;5;241;43m.\u001B[39;49m\u001B[43msimulationStep\u001B[49m\u001B[43m(\u001B[49m\u001B[43m)\u001B[49m\n\u001B[1;32m    183\u001B[0m     \u001B[38;5;28mself\u001B[39m\u001B[38;5;241m.\u001B[39mtimestep \u001B[38;5;241m+\u001B[39m\u001B[38;5;241m=\u001B[39m \u001B[38;5;28mself\u001B[39m\u001B[38;5;241m.\u001B[39mSUMOSTEP \u001B[38;5;66;03m#self.conn.simulation.getCurrentTime()/1000\u001B[39;00m\n\u001B[1;32m    184\u001B[0m     lastVehiclesVector \u001B[38;5;241m+\u001B[39m\u001B[38;5;241m=\u001B[39m np\u001B[38;5;241m.\u001B[39marray([np\u001B[38;5;241m.\u001B[39mfloat32(\u001B[38;5;28mself\u001B[39m\u001B[38;5;241m.\u001B[39mconn\u001B[38;5;241m.\u001B[39minductionloop\u001B[38;5;241m.\u001B[39mgetLastStepVehicleNumber(detID)) \u001B[38;5;28;01mfor\u001B[39;00m detID \u001B[38;5;129;01min\u001B[39;00m \u001B[38;5;28mself\u001B[39m\u001B[38;5;241m.\u001B[39mDETECTORS])\n",
      "File \u001B[0;32m~/miniconda3/envs/gharaffa/lib/python3.8/site-packages/traci/connection.py:308\u001B[0m, in \u001B[0;36mConnection.simulationStep\u001B[0;34m(self, step)\u001B[0m\n\u001B[1;32m    306\u001B[0m \u001B[38;5;28;01mif\u001B[39;00m \u001B[38;5;28mtype\u001B[39m(step) \u001B[38;5;129;01mis\u001B[39;00m \u001B[38;5;28mint\u001B[39m \u001B[38;5;129;01mand\u001B[39;00m step \u001B[38;5;241m>\u001B[39m\u001B[38;5;241m=\u001B[39m \u001B[38;5;241m1000\u001B[39m:\n\u001B[1;32m    307\u001B[0m     warnings\u001B[38;5;241m.\u001B[39mwarn(\u001B[38;5;124m\"\u001B[39m\u001B[38;5;124mAPI change now handles step as floating point seconds\u001B[39m\u001B[38;5;124m\"\u001B[39m, stacklevel\u001B[38;5;241m=\u001B[39m\u001B[38;5;241m2\u001B[39m)\n\u001B[0;32m--> 308\u001B[0m result \u001B[38;5;241m=\u001B[39m \u001B[38;5;28;43mself\u001B[39;49m\u001B[38;5;241;43m.\u001B[39;49m\u001B[43m_sendCmd\u001B[49m\u001B[43m(\u001B[49m\u001B[43mtc\u001B[49m\u001B[38;5;241;43m.\u001B[39;49m\u001B[43mCMD_SIMSTEP\u001B[49m\u001B[43m,\u001B[49m\u001B[43m \u001B[49m\u001B[38;5;28;43;01mNone\u001B[39;49;00m\u001B[43m,\u001B[49m\u001B[43m \u001B[49m\u001B[38;5;28;43;01mNone\u001B[39;49;00m\u001B[43m,\u001B[49m\u001B[43m \u001B[49m\u001B[38;5;124;43m\"\u001B[39;49m\u001B[38;5;124;43mD\u001B[39;49m\u001B[38;5;124;43m\"\u001B[39;49m\u001B[43m,\u001B[49m\u001B[43m \u001B[49m\u001B[43mstep\u001B[49m\u001B[43m)\u001B[49m\n\u001B[1;32m    309\u001B[0m \u001B[38;5;28;01mfor\u001B[39;00m subscriptionResults \u001B[38;5;129;01min\u001B[39;00m \u001B[38;5;28mself\u001B[39m\u001B[38;5;241m.\u001B[39m_subscriptionMapping\u001B[38;5;241m.\u001B[39mvalues():\n\u001B[1;32m    310\u001B[0m     subscriptionResults\u001B[38;5;241m.\u001B[39mreset()\n",
      "File \u001B[0;32m~/miniconda3/envs/gharaffa/lib/python3.8/site-packages/traci/connection.py:181\u001B[0m, in \u001B[0;36mConnection._sendCmd\u001B[0;34m(self, cmdID, varID, objID, format, *values)\u001B[0m\n\u001B[1;32m    179\u001B[0m     \u001B[38;5;28mself\u001B[39m\u001B[38;5;241m.\u001B[39m_string \u001B[38;5;241m+\u001B[39m\u001B[38;5;241m=\u001B[39m struct\u001B[38;5;241m.\u001B[39mpack(\u001B[38;5;124m\"\u001B[39m\u001B[38;5;124m!i\u001B[39m\u001B[38;5;124m\"\u001B[39m, \u001B[38;5;28mlen\u001B[39m(objID)) \u001B[38;5;241m+\u001B[39m objID\u001B[38;5;241m.\u001B[39mencode(\u001B[38;5;124m\"\u001B[39m\u001B[38;5;124mlatin1\u001B[39m\u001B[38;5;124m\"\u001B[39m)\n\u001B[1;32m    180\u001B[0m \u001B[38;5;28mself\u001B[39m\u001B[38;5;241m.\u001B[39m_string \u001B[38;5;241m+\u001B[39m\u001B[38;5;241m=\u001B[39m packed\n\u001B[0;32m--> 181\u001B[0m \u001B[38;5;28;01mreturn\u001B[39;00m \u001B[38;5;28;43mself\u001B[39;49m\u001B[38;5;241;43m.\u001B[39;49m\u001B[43m_sendExact\u001B[49m\u001B[43m(\u001B[49m\u001B[43m)\u001B[49m\n",
      "File \u001B[0;32m~/miniconda3/envs/gharaffa/lib/python3.8/site-packages/traci/connection.py:91\u001B[0m, in \u001B[0;36mConnection._sendExact\u001B[0;34m(self)\u001B[0m\n\u001B[1;32m     89\u001B[0m     \u001B[38;5;28mself\u001B[39m\u001B[38;5;241m.\u001B[39m_socket\u001B[38;5;241m.\u001B[39mclose()\n\u001B[1;32m     90\u001B[0m     \u001B[38;5;28;01mdel\u001B[39;00m \u001B[38;5;28mself\u001B[39m\u001B[38;5;241m.\u001B[39m_socket\n\u001B[0;32m---> 91\u001B[0m     \u001B[38;5;28;01mraise\u001B[39;00m FatalTraCIError(\u001B[38;5;124m\"\u001B[39m\u001B[38;5;124mconnection closed by SUMO\u001B[39m\u001B[38;5;124m\"\u001B[39m)\n\u001B[1;32m     92\u001B[0m \u001B[38;5;28;01mfor\u001B[39;00m command \u001B[38;5;129;01min\u001B[39;00m \u001B[38;5;28mself\u001B[39m\u001B[38;5;241m.\u001B[39m_queue:\n\u001B[1;32m     93\u001B[0m     prefix \u001B[38;5;241m=\u001B[39m result\u001B[38;5;241m.\u001B[39mread(\u001B[38;5;124m\"\u001B[39m\u001B[38;5;124m!BBB\u001B[39m\u001B[38;5;124m\"\u001B[39m)\n",
      "\u001B[0;31mFatalTraCIError\u001B[0m: connection closed by SUMO"
     ]
    }
   ],
   "source": [
    "# envSCAT = gym.make(\"gymGharrafa-v4\")\n",
    "# _ = envSCAT.reset()\n",
    "# steps=360\n",
    "# for s in range (steps):\n",
    "#     envSCAT.step(0)"
   ]
  },
  {
   "cell_type": "code",
   "execution_count": 12,
   "metadata": {
    "pycharm": {
     "name": "#%%\n"
    }
   },
   "outputs": [
    {
     "name": "stderr",
     "output_type": "stream",
     "text": [
      "/Users/d.shao/miniconda3/envs/gharaffa/lib/python3.8/site-packages/gym/envs/registration.py:555: UserWarning: \u001B[33mWARN: The environment gymGharrafa-v3 is out of date. You should consider upgrading to version `v5`.\u001B[0m\n",
      "  logger.warn(\n"
     ]
    },
    {
     "name": "stdout",
     "output_type": "stream",
     "text": [
      " Retrying in 1 seconds\n"
     ]
    },
    {
     "name": "stderr",
     "output_type": "stream",
     "text": [
      "/Users/d.shao/miniconda3/envs/gharaffa/lib/python3.8/site-packages/gym/utils/passive_env_checker.py:31: UserWarning: \u001B[33mWARN: A Box observation space has an unconventional shape (neither an image, nor a 1D vector). We recommend flattening the observation to have only a 1D vector or use a custom policy to properly process the data. Actual observation shape: (1, 68)\u001B[0m\n",
      "  logger.warn(\n",
      "/Users/d.shao/miniconda3/envs/gharaffa/lib/python3.8/site-packages/gym/utils/passive_env_checker.py:174: UserWarning: \u001B[33mWARN: Future gym versions will require that `Env.reset` can be passed a `seed` instead of using `Env.seed` for resetting the environment random number generator.\u001B[0m\n",
      "  logger.warn(\n",
      "/Users/d.shao/miniconda3/envs/gharaffa/lib/python3.8/site-packages/gym/utils/passive_env_checker.py:187: UserWarning: \u001B[33mWARN: Future gym versions will require that `Env.reset` can be passed `options` to allow the environment initialisation to be passed additional information.\u001B[0m\n",
      "  logger.warn(\n",
      "/Users/d.shao/miniconda3/envs/gharaffa/lib/python3.8/site-packages/gym/utils/passive_env_checker.py:195: UserWarning: \u001B[33mWARN: The result returned by `env.reset()` was not a tuple of the form `(obs, info)`, where `obs` is a observation and `info` is a dictionary containing additional information. Actual type: `<class 'numpy.ndarray'>`\u001B[0m\n",
      "  logger.warn(\n",
      "/Users/d.shao/miniconda3/envs/gharaffa/lib/python3.8/site-packages/gym/utils/passive_env_checker.py:219: DeprecationWarning: \u001B[33mWARN: Core environment is written in old step API which returns one bool instead of two. It is recommended to rewrite the environment with new step API. \u001B[0m\n",
      "  logger.deprecation(\n",
      "/Users/d.shao/miniconda3/envs/gharaffa/lib/python3.8/site-packages/gym/utils/passive_env_checker.py:225: DeprecationWarning: `np.bool8` is a deprecated alias for `np.bool_`.  (Deprecated NumPy 1.24)\n",
      "  if not isinstance(done, (bool, np.bool8)):\n",
      "/Users/d.shao/miniconda3/envs/gharaffa/lib/python3.8/site-packages/gym/utils/passive_env_checker.py:141: UserWarning: \u001B[33mWARN: The obs returned by the `step()` method was expecting numpy array dtype to be uint8, actual type: float32\u001B[0m\n",
      "  logger.warn(\n",
      "/Users/d.shao/miniconda3/envs/gharaffa/lib/python3.8/site-packages/gym/utils/passive_env_checker.py:165: UserWarning: \u001B[33mWARN: The obs returned by the `step()` method is not within the observation space.\u001B[0m\n",
      "  logger.warn(f\"{pre} is not within the observation space.\")\n"
     ]
    },
    {
     "ename": "ValueError",
     "evalue": "not enough values to unpack (expected 5, got 4)",
     "output_type": "error",
     "traceback": [
      "\u001B[0;31m---------------------------------------------------------------------------\u001B[0m",
      "\u001B[0;31mValueError\u001B[0m                                Traceback (most recent call last)",
      "Cell \u001B[0;32mIn[12], line 5\u001B[0m\n\u001B[1;32m      3\u001B[0m steps\u001B[38;5;241m=\u001B[39m\u001B[38;5;241m360\u001B[39m\n\u001B[1;32m      4\u001B[0m \u001B[38;5;28;01mfor\u001B[39;00m s \u001B[38;5;129;01min\u001B[39;00m \u001B[38;5;28mrange\u001B[39m (steps):\n\u001B[0;32m----> 5\u001B[0m     \u001B[43menv0\u001B[49m\u001B[38;5;241;43m.\u001B[39;49m\u001B[43mstep\u001B[49m\u001B[43m(\u001B[49m\u001B[38;5;241;43m0\u001B[39;49m\u001B[43m)\u001B[49m\n",
      "File \u001B[0;32m~/miniconda3/envs/gharaffa/lib/python3.8/site-packages/gym/wrappers/time_limit.py:50\u001B[0m, in \u001B[0;36mTimeLimit.step\u001B[0;34m(self, action)\u001B[0m\n\u001B[1;32m     39\u001B[0m \u001B[38;5;28;01mdef\u001B[39;00m \u001B[38;5;21mstep\u001B[39m(\u001B[38;5;28mself\u001B[39m, action):\n\u001B[1;32m     40\u001B[0m \u001B[38;5;250m    \u001B[39m\u001B[38;5;124;03m\"\"\"Steps through the environment and if the number of steps elapsed exceeds ``max_episode_steps`` then truncate.\u001B[39;00m\n\u001B[1;32m     41\u001B[0m \n\u001B[1;32m     42\u001B[0m \u001B[38;5;124;03m    Args:\u001B[39;00m\n\u001B[0;32m   (...)\u001B[0m\n\u001B[1;32m     48\u001B[0m \n\u001B[1;32m     49\u001B[0m \u001B[38;5;124;03m    \"\"\"\u001B[39;00m\n\u001B[0;32m---> 50\u001B[0m     observation, reward, terminated, truncated, info \u001B[38;5;241m=\u001B[39m \u001B[38;5;28mself\u001B[39m\u001B[38;5;241m.\u001B[39menv\u001B[38;5;241m.\u001B[39mstep(action)\n\u001B[1;32m     51\u001B[0m     \u001B[38;5;28mself\u001B[39m\u001B[38;5;241m.\u001B[39m_elapsed_steps \u001B[38;5;241m+\u001B[39m\u001B[38;5;241m=\u001B[39m \u001B[38;5;241m1\u001B[39m\n\u001B[1;32m     53\u001B[0m     \u001B[38;5;28;01mif\u001B[39;00m \u001B[38;5;28mself\u001B[39m\u001B[38;5;241m.\u001B[39m_elapsed_steps \u001B[38;5;241m>\u001B[39m\u001B[38;5;241m=\u001B[39m \u001B[38;5;28mself\u001B[39m\u001B[38;5;241m.\u001B[39m_max_episode_steps:\n",
      "\u001B[0;31mValueError\u001B[0m: not enough values to unpack (expected 5, got 4)"
     ]
    }
   ],
   "source": [
    "# env0 = gym.make(\"gymGharrafa-v3\")\n",
    "# _ = env0.reset()\n",
    "# steps=360\n",
    "# for s in range (steps):\n",
    "#     env0.step(0)"
   ]
  },
  {
   "cell_type": "code",
   "execution_count": null,
   "metadata": {
    "pycharm": {
     "name": "#%%\n"
    }
   },
   "outputs": [],
   "source": []
  },
  {
   "cell_type": "code",
   "execution_count": null,
   "metadata": {
    "pycharm": {
     "name": "#%%\n"
    }
   },
   "outputs": [],
   "source": []
  },
  {
   "cell_type": "code",
   "execution_count": null,
   "metadata": {
    "pycharm": {
     "name": "#%%\n"
    }
   },
   "outputs": [],
   "source": []
  },
  {
   "cell_type": "code",
   "execution_count": null,
   "metadata": {
    "pycharm": {
     "name": "#%%\n"
    }
   },
   "outputs": [],
   "source": []
  },
  {
   "cell_type": "code",
   "execution_count": null,
   "metadata": {
    "pycharm": {
     "name": "#%%\n"
    }
   },
   "outputs": [],
   "source": []
  },
  {
   "cell_type": "code",
   "execution_count": null,
   "metadata": {
    "pycharm": {
     "name": "#%%\n"
    }
   },
   "outputs": [],
   "source": []
  },
  {
   "cell_type": "code",
   "execution_count": null,
   "metadata": {
    "pycharm": {
     "name": "#%%\n"
    }
   },
   "outputs": [],
   "source": []
  },
  {
   "cell_type": "code",
   "execution_count": null,
   "metadata": {
    "pycharm": {
     "name": "#%%\n"
    }
   },
   "outputs": [],
   "source": []
  },
  {
   "cell_type": "code",
   "execution_count": null,
   "metadata": {
    "pycharm": {
     "name": "#%%\n"
    }
   },
   "outputs": [],
   "source": []
  }
 ],
 "metadata": {
  "kernelspec": {
   "display_name": "Python 3",
   "language": "python",
   "name": "python3"
  },
  "language_info": {
   "codemirror_mode": {
    "name": "ipython",
    "version": 3
   },
   "file_extension": ".py",
   "mimetype": "text/x-python",
   "name": "python",
   "nbconvert_exporter": "python",
   "pygments_lexer": "ipython3",
   "version": "3.6.7"
  }
 },
 "nbformat": 4,
 "nbformat_minor": 2
}